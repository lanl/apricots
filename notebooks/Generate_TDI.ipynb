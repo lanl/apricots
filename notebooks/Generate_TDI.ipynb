{
 "cells": [
  {
   "cell_type": "code",
   "execution_count": null,
   "id": "26864c75",
   "metadata": {},
   "outputs": [],
   "source": [
    "import h5py\n",
    "import numpy as np\n",
    "from pathlib import Path\n",
    "import matplotlib.pyplot as plt\n",
    "from crosscorr.crosscorr import Waveform, Binary, Orbit\n",
    "YRSID_SI = 31558149.8 # 31558149.763545603"
   ]
  },
  {
   "cell_type": "code",
   "execution_count": null,
   "id": "01932348",
   "metadata": {},
   "outputs": [],
   "source": [
    "t = np.arange(0, 1.0*YRSID_SI, 5.0)\n",
    "rng = np.random.default_rng(seed=23)\n",
    "u_rand = rng.random(5)\n",
    "A = 1e-22\n",
    "f = 1e-3\n",
    "fdot = 0.0\n",
    "iota = np.pi/2 - np.abs(np.arccos(2*u_rand[0]-1) - np.pi/2) \n",
    "phi0 = 2*np.pi*u_rand[1]\n",
    "psi = 2*np.pi*u_rand[2]\n",
    "beta = np.arccos(2*u_rand[3]-1)\n",
    "lam = 2*np.pi*u_rand[4]\n",
    "\n",
    "parameters = ['Amplitude', 'Frequency', 'FrequencyDerivative', 'Inclination',\n",
    "          'InitialPhase', 'Polarization', 'EclipticLatitude', 'EclipticLongitude']\n",
    "cat = np.vstack((A, f, fdot, iota, phi0, psi, beta, lam))\n",
    "cat_data = np.atleast_2d(cat.T.ravel().view([(n, float) for n in parameters])).T\n",
    "\n",
    "columns = ['t', 'X', 'Y', 'Z']\n",
    "noise_level = 1e-22\n",
    "noise = np.vstack((t, rng.normal(loc=0, scale=noise_level, size=(3, len(t)))))\n",
    "noise_data = np.atleast_2d(noise.T.ravel().view([(n, float) for n in columns])).T"
   ]
  },
  {
   "cell_type": "code",
   "execution_count": null,
   "id": "5b43f9d4",
   "metadata": {},
   "outputs": [],
   "source": [
    "filename = 'LDC2_sangria_training_v2.h5'\n",
    "data_file = Path.cwd().joinpath('data').joinpath(filename)\n",
    "data = h5py.File(filepath.joinpath(filename))\n",
    "\n",
    "def parse_data(dat):\n",
    "    return dat.view((float, len(dat.dtype.names))).T\n",
    "\n",
    "sky_data = data['sky']\n",
    "sim_signal = (parse_data(sky_data['igb']['tdi'][:, 0]) + \n",
    "              parse_data(sky_data['dgb']['tdi'][:, 0]) + \n",
    "              parse_data(sky_data['vgb']['tdi'][:, 0]) + \n",
    "              parse_data(sky_data['mbhb']['tdi'][:, 0]))"
   ]
  },
  {
   "cell_type": "code",
   "execution_count": null,
   "id": "1d4d70df",
   "metadata": {},
   "outputs": [],
   "source": [
    "full_signal = parse_data(data['obs']['tdi'][:, 0])\n",
    "noise_signal = full_signal - sim_signal\n",
    "time = full_signal[0, :]\n",
    "\n",
    "plt.figure()\n",
    "plt.plot(time[::50]/60/60/24, noise_signal[1, ::50], '#4c72b0', label='X', alpha=0.33)\n",
    "plt.plot(time[::50]/60/60/24, noise_signal[2, ::50], '#c44e52', label='Y', alpha=0.33)\n",
    "plt.plot(time[::50]/60/60/24, noise_signal[3, ::50], '#55a868', label='Z', alpha=0.33)\n",
    "plt.legend()\n",
    "plt.grid()\n",
    "plt.show()"
   ]
  },
  {
   "cell_type": "code",
   "execution_count": null,
   "id": "8acf10a6",
   "metadata": {},
   "outputs": [],
   "source": [
    "L = 2.5e9\n",
    "orbit = Orbit(t, L)\n",
    "binary = Binary(A, iota, f, fdot, phi0, psi, beta, lam)\n",
    "waveform = Waveform(t, binary, orbit)\n",
    "tdi = np.vstack((t, np.real(waveform.X_tdi) + noise[1], \n",
    "                    np.real(waveform.Y_tdi) + noise[2], \n",
    "                    np.real(waveform.Z_tdi) + noise[3]))\n",
    "\n",
    "columns = ['t', 'X', 'Y', 'Z']\n",
    "tdi_data = np.atleast_2d(tdi.T.ravel().view([(n, float) for n in columns])).T"
   ]
  },
  {
   "cell_type": "code",
   "execution_count": null,
   "id": "ccaeea95",
   "metadata": {},
   "outputs": [],
   "source": [
    "filename = 'single_source_high_noise_test'\n",
    "filepath = Path.cwd().parent.parent.joinpath('cwwd/data')\n",
    "with h5py.File(filepath.joinpath(f'{filename}.hdf5'), 'w-') as f:\n",
    "    sgb = f.create_group('/sky/sgb')\n",
    "    sgb.create_dataset('tdi', data=tdi_data)\n",
    "    sgb.create_dataset('cat', data=cat_data)\n",
    "    sgb.create_dataset('noise', data=noise_data)"
   ]
  },
  {
   "cell_type": "code",
   "execution_count": null,
   "id": "dd314d18",
   "metadata": {},
   "outputs": [],
   "source": [
    "h5py.File(filepath.joinpath(f'{filename}.hdf5'))['sky/sgb/tdi'][:, 0]"
   ]
  },
  {
   "cell_type": "code",
   "execution_count": null,
   "id": "11a0ec02",
   "metadata": {},
   "outputs": [],
   "source": []
  }
 ],
 "metadata": {
  "kernelspec": {
   "display_name": "Python 3 (ipykernel)",
   "language": "python",
   "name": "python3"
  },
  "language_info": {
   "codemirror_mode": {
    "name": "ipython",
    "version": 3
   },
   "file_extension": ".py",
   "mimetype": "text/x-python",
   "name": "python",
   "nbconvert_exporter": "python",
   "pygments_lexer": "ipython3",
   "version": "3.10.14"
  }
 },
 "nbformat": 4,
 "nbformat_minor": 5
}
